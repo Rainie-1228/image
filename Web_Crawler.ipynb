{
  "nbformat": 4,
  "nbformat_minor": 0,
  "metadata": {
    "colab": {
      "provenance": [],
      "authorship_tag": "ABX9TyMfEZ6TvyIe0AAoTy2uXgWK",
      "include_colab_link": true
    },
    "kernelspec": {
      "name": "python3",
      "display_name": "Python 3"
    },
    "language_info": {
      "name": "python"
    }
  },
  "cells": [
    {
      "cell_type": "markdown",
      "metadata": {
        "id": "view-in-github",
        "colab_type": "text"
      },
      "source": [
        "<a href=\"https://colab.research.google.com/github/Rainie-1228/image/blob/main/Web_Crawler.ipynb\" target=\"_parent\"><img src=\"https://colab.research.google.com/assets/colab-badge.svg\" alt=\"Open In Colab\"/></a>"
      ]
    },
    {
      "cell_type": "markdown",
      "source": [
        "* Coding Ground擁有多語言的免安裝開發環境\n",
        "* PyCharm 是一種IDE\n",
        "* &nbsp;&nbsp;"
      ],
      "metadata": {
        "id": "nuVNeacfIKBP"
      }
    },
    {
      "cell_type": "code",
      "execution_count": null,
      "metadata": {
        "id": "yE7CGm5FHwOq"
      },
      "outputs": [],
      "source": [
        "%matplotlib inline\n",
        "import numpy as np\n",
        "import pandas as pd\n",
        "import matplotlib.pyplot as plt\n",
        "from IPython.display import Image"
      ]
    },
    {
      "cell_type": "markdown",
      "source": [
        "隨機取數\n"
      ],
      "metadata": {
        "id": "my2VjU3tIdmG"
      }
    },
    {
      "cell_type": "code",
      "source": [
        "# 函式randrange將運算結果回傳給變數x後,印出x\n",
        "import random\n",
        "x = random.randrange(100)\n",
        "print(x)"
      ],
      "metadata": {
        "colab": {
          "base_uri": "https://localhost:8080/"
        },
        "id": "1SXYZaGwIG9K",
        "outputId": "2216b1f8-1128-4b6e-b636-17508722f64c"
      },
      "execution_count": null,
      "outputs": [
        {
          "output_type": "stream",
          "name": "stdout",
          "text": [
            "91\n"
          ]
        }
      ]
    },
    {
      "cell_type": "code",
      "source": [
        "x = random.randrange(20,51) #取從20-50之整數\n",
        "print(x)"
      ],
      "metadata": {
        "colab": {
          "base_uri": "https://localhost:8080/"
        },
        "id": "xLYXJT9jIpX_",
        "outputId": "de65d622-5cbc-4bbd-f2b6-e725466cfaa6"
      },
      "execution_count": null,
      "outputs": [
        {
          "output_type": "stream",
          "name": "stdout",
          "text": [
            "31\n"
          ]
        }
      ]
    },
    {
      "cell_type": "code",
      "source": [
        "x = random.randrange(10, 31, 3) #取從10-30之整數範圍，並以3為間隔。如10、13、16...\n",
        "print(x)"
      ],
      "metadata": {
        "colab": {
          "base_uri": "https://localhost:8080/"
        },
        "id": "sAhJSKNsKd7x",
        "outputId": "2a0e3c5f-ada0-4082-8f7d-4fab3f8cbe1f"
      },
      "execution_count": null,
      "outputs": [
        {
          "output_type": "stream",
          "name": "stdout",
          "text": [
            "28\n"
          ]
        }
      ]
    },
    {
      "cell_type": "markdown",
      "source": [
        "# **Ch1-Python基礎課程**"
      ],
      "metadata": {
        "id": "PZ-Apvy6VaXc"
      }
    },
    {
      "cell_type": "markdown",
      "source": [
        "##**1-1 變數和輸入文字**\n",
        "程式語言的等號=的意思是，將等號右邊的值傳回左邊的變數"
      ],
      "metadata": {
        "id": "KWoWfv1gTYIi"
      }
    },
    {
      "cell_type": "code",
      "source": [
        "name = 'Rainie'\n",
        "print(name)"
      ],
      "metadata": {
        "colab": {
          "base_uri": "https://localhost:8080/"
        },
        "id": "Yc9HSPW_Vbk9",
        "outputId": "ea793670-0cc3-44bb-f866-91279c2adb68"
      },
      "execution_count": null,
      "outputs": [
        {
          "output_type": "stream",
          "name": "stdout",
          "text": [
            "Rainie\n"
          ]
        }
      ]
    },
    {
      "cell_type": "markdown",
      "source": [
        "input('提示使用者要輸入的文字')"
      ],
      "metadata": {
        "id": "Xz5avjbDTYkU"
      }
    },
    {
      "cell_type": "code",
      "source": [
        "name = input('請輸入你的名字')\n",
        "print(name)\n",
        "gender = input('請輸入你的性別')\n",
        "print(gender)\n",
        "age = input('請輸入你的年齡')\n",
        "print(age)"
      ],
      "metadata": {
        "colab": {
          "base_uri": "https://localhost:8080/"
        },
        "id": "lr_iaw_TTbYv",
        "outputId": "ba07ad50-81d1-48c8-b00c-eca1870b69d2"
      },
      "execution_count": null,
      "outputs": [
        {
          "output_type": "stream",
          "name": "stdout",
          "text": [
            "請輸入你的名字Rainie\n",
            "Rainie\n",
            "請輸入你的性別女\n",
            "女\n",
            "請輸入你的年齡18\n",
            "18\n"
          ]
        }
      ]
    },
    {
      "cell_type": "markdown",
      "source": [
        "常用語法  \n",
        "* 註解: ctrl+/、ctrl+windows+/  \n",
        "* 多個字串連結: +  \n",
        "* 字串單、雙引號\n",
        "\n",
        "\n",
        "\n",
        "\n",
        "\n",
        "\n",
        "\n",
        "\n",
        "\n",
        "\n",
        "\n",
        "\n",
        "\n",
        "\n",
        "\n",
        "\n",
        "\n",
        "\n",
        "\n",
        "\n",
        "\n"
      ],
      "metadata": {
        "id": "EZBworkCTab9"
      }
    },
    {
      "cell_type": "code",
      "source": [
        "print('我是'+'Rainie')"
      ],
      "metadata": {
        "colab": {
          "base_uri": "https://localhost:8080/"
        },
        "id": "d2z0TmAvTXx6",
        "outputId": "48245dae-c67e-4ab3-8046-06fea3c57e19"
      },
      "execution_count": null,
      "outputs": [
        {
          "output_type": "stream",
          "name": "stdout",
          "text": [
            "我是Rainie\n"
          ]
        }
      ]
    },
    {
      "cell_type": "markdown",
      "source": [
        "##**1-2 內建型態(Built-in type)和轉型的方式**"
      ],
      "metadata": {
        "id": "9dWTmBdHK0Db"
      }
    },
    {
      "cell_type": "markdown",
      "source": [
        "內建型態\n",
        "* 數值：整數、浮點數\n",
        "* 字串：string\n",
        "* 容器：可放入多筆資料(如List、Tuple)"
      ],
      "metadata": {
        "id": "pz9BLvtMwp6G"
      }
    },
    {
      "cell_type": "markdown",
      "source": [
        "查看變數的型態  \n",
        "> type()\n",
        "\n",
        "\n"
      ],
      "metadata": {
        "id": "dHnb5KHVsqF2"
      }
    },
    {
      "cell_type": "code",
      "source": [
        "a = 'A'\n",
        "print(type(a))"
      ],
      "metadata": {
        "id": "4G7zrVqdw9kr",
        "colab": {
          "base_uri": "https://localhost:8080/"
        },
        "outputId": "645a44c6-6b1d-40b6-a9a2-f59229b3f68f"
      },
      "execution_count": null,
      "outputs": [
        {
          "output_type": "stream",
          "name": "stdout",
          "text": [
            "<class 'str'>\n"
          ]
        }
      ]
    },
    {
      "cell_type": "code",
      "source": [
        "a = 1.87\n",
        "print(type(a))"
      ],
      "metadata": {
        "colab": {
          "base_uri": "https://localhost:8080/"
        },
        "id": "X2c_iY5dtEIA",
        "outputId": "6d9e09bf-12b4-49ed-bdfa-bc8718d0c83b"
      },
      "execution_count": null,
      "outputs": [
        {
          "output_type": "stream",
          "name": "stdout",
          "text": [
            "<class 'float'>\n"
          ]
        }
      ]
    },
    {
      "cell_type": "markdown",
      "source": [
        "型態之間互相轉換  \n",
        "▶ 常用於資料庫撈取data時\n",
        "* 字串轉整數 int()\n",
        "* 字串轉浮點數 float()"
      ],
      "metadata": {
        "id": "CQRkGCQLu5nN"
      }
    },
    {
      "cell_type": "code",
      "source": [
        "b = input('請輸入數字')\n",
        "print(type(b))\n",
        "c = int(b) #轉整數\n",
        "print(type(c))\n",
        "c+2"
      ],
      "metadata": {
        "colab": {
          "base_uri": "https://localhost:8080/"
        },
        "id": "8eEMNfE3uSOX",
        "outputId": "75dfa566-49b3-4227-ff57-fe76e78321cc"
      },
      "execution_count": null,
      "outputs": [
        {
          "output_type": "stream",
          "name": "stdout",
          "text": [
            "請輸入數字6\n",
            "<class 'str'>\n",
            "<class 'int'>\n"
          ]
        },
        {
          "output_type": "execute_result",
          "data": {
            "text/plain": [
              "8"
            ]
          },
          "metadata": {},
          "execution_count": 5
        }
      ]
    },
    {
      "cell_type": "markdown",
      "source": [
        "整數與浮點數之間的轉換"
      ],
      "metadata": {
        "id": "BGRQfLGNzJnB"
      }
    },
    {
      "cell_type": "code",
      "source": [
        "# int轉float\n",
        "d = 8\n",
        "e = float(d)\n",
        "print(e)"
      ],
      "metadata": {
        "colab": {
          "base_uri": "https://localhost:8080/"
        },
        "id": "Pr5JHg5m3PMr",
        "outputId": "449037f2-1b54-4d13-c6b6-2659a3107100"
      },
      "execution_count": null,
      "outputs": [
        {
          "output_type": "stream",
          "name": "stdout",
          "text": [
            "8.0\n"
          ]
        }
      ]
    },
    {
      "cell_type": "code",
      "source": [
        "# float轉int\n",
        "d = 8.68\n",
        "e = int(d)\n",
        "print(e)"
      ],
      "metadata": {
        "colab": {
          "base_uri": "https://localhost:8080/"
        },
        "id": "gNzOrvLP2c_r",
        "outputId": "d4c73299-d168-4968-cbdf-7df7662ddff4"
      },
      "execution_count": null,
      "outputs": [
        {
          "output_type": "stream",
          "name": "stdout",
          "text": [
            "8\n"
          ]
        }
      ]
    },
    {
      "cell_type": "markdown",
      "source": [
        "##**1-3 例外處理try-except**  \n",
        "* 輸入文字未轉型為數值即進行數學運算(會發生例外錯誤exception)，用try-except控制  \n",
        "* 當使用者輸入非數字值，程式發生ValueError時，列印提示文字\n",
        "\n",
        "[Python官網-例外清單和介紹](https://docs.python.org/zh-tw/3/library/exceptions.html)"
      ],
      "metadata": {
        "id": "aMKQTJ-17LH2"
      }
    },
    {
      "cell_type": "markdown",
      "source": [
        "![try-except.png](https://github.com/Rainie-1228/image/blob/main/try-except.png?raw=true)"
      ],
      "metadata": {
        "id": "X-4HHBhHErrY"
      }
    },
    {
      "cell_type": "code",
      "source": [
        "try: #冒號後縮排視為同一區塊\n",
        "  num = input('請輸入數字')\n",
        "  total = num+3\n",
        "  print(total)\n",
        "except:\n",
        "  print('發生錯誤')"
      ],
      "metadata": {
        "colab": {
          "base_uri": "https://localhost:8080/"
        },
        "id": "l4zZTgA82m6-",
        "outputId": "cba0ccf0-1878-4262-bbf1-20491ebf5d3e"
      },
      "execution_count": null,
      "outputs": [
        {
          "output_type": "stream",
          "name": "stdout",
          "text": [
            "請輸入數字5\n",
            "發生錯誤\n"
          ]
        }
      ]
    },
    {
      "cell_type": "code",
      "source": [
        "try:\n",
        "  num = input('請輸入數字')\n",
        "  num = int(num) #字串改為整數\n",
        "  total = num+3\n",
        "  print(total)\n",
        "except:\n",
        "  print('發生錯誤')"
      ],
      "metadata": {
        "colab": {
          "base_uri": "https://localhost:8080/"
        },
        "id": "YBdrStsO-V48",
        "outputId": "9628facf-a2cb-49cb-c33f-769135fb2e9d"
      },
      "execution_count": null,
      "outputs": [
        {
          "output_type": "stream",
          "name": "stdout",
          "text": [
            "請輸入數字5\n",
            "8\n"
          ]
        }
      ]
    },
    {
      "cell_type": "code",
      "source": [
        "try:\n",
        "  num = input('請輸入數字:')\n",
        "  num = int(num) #字串改為整數\n",
        "  total = num+3\n",
        "  print(total)\n",
        "except ValueError:\n",
        "  print('發生錯誤')\n",
        "else:\n",
        "  print('成功執行')\n",
        "finally:\n",
        "  print('程式結束')"
      ],
      "metadata": {
        "colab": {
          "base_uri": "https://localhost:8080/"
        },
        "id": "uwQBTdtdIUzA",
        "outputId": "3ca0532e-85b4-4dad-e372-49b840ccafcf"
      },
      "execution_count": null,
      "outputs": [
        {
          "output_type": "stream",
          "name": "stdout",
          "text": [
            "請輸入數字:5\n",
            "8\n",
            "成功執行\n",
            "程式結束\n"
          ]
        }
      ]
    },
    {
      "cell_type": "code",
      "source": [
        "try:\n",
        "  num = input('請輸入數字:')\n",
        "  num = int(num) #字串改為整數\n",
        "  total = num+3\n",
        "  print(total)\n",
        "except ValueError:\n",
        "  print('發生錯誤')\n",
        "else:\n",
        "  print('成功執行')\n",
        "finally:\n",
        "  print('程式結束')"
      ],
      "metadata": {
        "colab": {
          "base_uri": "https://localhost:8080/"
        },
        "id": "_iTjiQzGLD8m",
        "outputId": "548bdd84-34cf-46c5-dbaa-593de48ddda9"
      },
      "execution_count": null,
      "outputs": [
        {
          "output_type": "stream",
          "name": "stdout",
          "text": [
            "請輸入數字:bbbbb\n",
            "發生錯誤\n",
            "程式結束\n"
          ]
        }
      ]
    },
    {
      "cell_type": "code",
      "source": [],
      "metadata": {
        "id": "9xFIRnZtLWVB"
      },
      "execution_count": null,
      "outputs": []
    },
    {
      "cell_type": "markdown",
      "source": [
        "##**1-4 運算子和判斷條件**\n",
        "* 數值運算\n",
        "* 邏輯運算\n",
        "* 關係運算  \n",
        "&條件判斷 if-else"
      ],
      "metadata": {
        "id": "klFHoVMRNgqH"
      }
    },
    {
      "cell_type": "markdown",
      "source": [
        "**運算子**  \n",
        "+-*/\n"
      ],
      "metadata": {
        "id": "BdVM24F2OwRx"
      }
    },
    {
      "cell_type": "code",
      "source": [
        "'Hello' + ' Rainie!'"
      ],
      "metadata": {
        "colab": {
          "base_uri": "https://localhost:8080/",
          "height": 35
        },
        "id": "zvXRoni6NnX-",
        "outputId": "b958aa7a-b6ca-4246-d5ef-131ad245415c"
      },
      "execution_count": null,
      "outputs": [
        {
          "output_type": "execute_result",
          "data": {
            "text/plain": [
              "'Hello Rainie!'"
            ],
            "application/vnd.google.colaboratory.intrinsic+json": {
              "type": "string"
            }
          },
          "metadata": {},
          "execution_count": 24
        }
      ]
    },
    {
      "cell_type": "markdown",
      "source": [
        "**關係運算**   \n",
        "\n",
        "* $ \\leq,\\geq,\\neq  $\n",
        "* <,>,=,>=,<=,==,!=  (==用於\"判斷\"兩邊是否相等)\n",
        "* 布林值：True,False\n",
        "\n",
        "\n",
        "\n",
        "\n",
        "\n"
      ],
      "metadata": {
        "id": "B_waVnKsPmx_"
      }
    },
    {
      "cell_type": "code",
      "source": [
        "2>1"
      ],
      "metadata": {
        "colab": {
          "base_uri": "https://localhost:8080/"
        },
        "id": "qgNjoYxjPUwp",
        "outputId": "7bf35324-af98-4432-9496-f74365a85bfa"
      },
      "execution_count": null,
      "outputs": [
        {
          "output_type": "execute_result",
          "data": {
            "text/plain": [
              "True"
            ]
          },
          "metadata": {},
          "execution_count": 25
        }
      ]
    },
    {
      "cell_type": "code",
      "source": [
        "a = 'test1'\n",
        "b = 'test2'\n",
        "a == b"
      ],
      "metadata": {
        "colab": {
          "base_uri": "https://localhost:8080/"
        },
        "id": "P3vV9VqPR50d",
        "outputId": "5a77bc25-7fb2-4f68-ac30-72bf13ac5a9c"
      },
      "execution_count": null,
      "outputs": [
        {
          "output_type": "execute_result",
          "data": {
            "text/plain": [
              "False"
            ]
          },
          "metadata": {},
          "execution_count": 26
        }
      ]
    },
    {
      "cell_type": "markdown",
      "source": [
        "**邏輯運算**\n",
        "* and (皆為True,回傳True)\n",
        "* or (其一為True,回傳True)\n",
        "* not (將布林值相反)\n"
      ],
      "metadata": {
        "id": "KNiapZ_ITLS4"
      }
    },
    {
      "cell_type": "code",
      "source": [
        "True or False"
      ],
      "metadata": {
        "colab": {
          "base_uri": "https://localhost:8080/"
        },
        "id": "DWDd1R5wS6YC",
        "outputId": "9d1e1ba4-70e4-4fdb-a46d-47c07f6629ca"
      },
      "execution_count": null,
      "outputs": [
        {
          "output_type": "execute_result",
          "data": {
            "text/plain": [
              "True"
            ]
          },
          "metadata": {},
          "execution_count": 28
        }
      ]
    },
    {
      "cell_type": "code",
      "source": [
        "a = True\n",
        "not a"
      ],
      "metadata": {
        "colab": {
          "base_uri": "https://localhost:8080/"
        },
        "id": "BmOR5aUvUKRA",
        "outputId": "0aaa5f43-ed47-44c6-a38c-29e64c936f32"
      },
      "execution_count": null,
      "outputs": [
        {
          "output_type": "execute_result",
          "data": {
            "text/plain": [
              "False"
            ]
          },
          "metadata": {},
          "execution_count": 29
        }
      ]
    },
    {
      "cell_type": "markdown",
      "source": [
        "**IF-ELSE**  \n",
        "\n",
        "<br>**if(條件式1):**       \n",
        "&nbsp;&nbsp;條件式1為True則執行該區塊  \n",
        "**elif(條件式2):**    \n",
        "&nbsp;&nbsp;條件式2為True則執行該區塊  \n",
        "**else:**  \n",
        "&nbsp;&nbsp;都不符合"
      ],
      "metadata": {
        "id": "vzZsqdMpU3O9"
      }
    },
    {
      "cell_type": "code",
      "source": [
        "# a = 1\n",
        "# if a>0:\n",
        "#   print('a大於0')\n",
        "# elif a==0:\n",
        "#   print('a等於0')\n",
        "# else a<0:  #else後面無須下條件\n",
        "#   print('a小於0')"
      ],
      "metadata": {
        "id": "uQLKkyfGUUHa"
      },
      "execution_count": null,
      "outputs": []
    },
    {
      "cell_type": "code",
      "source": [
        "a = -1\n",
        "if a>0:\n",
        "  print('a大於0')\n",
        "elif a==0:\n",
        "  print('a等於0')\n",
        "else:\n",
        "  print('a小於0')"
      ],
      "metadata": {
        "colab": {
          "base_uri": "https://localhost:8080/"
        },
        "id": "f1po96ayW0nD",
        "outputId": "9b36b644-65b9-49c7-96c4-266f1ac3a291"
      },
      "execution_count": null,
      "outputs": [
        {
          "output_type": "stream",
          "name": "stdout",
          "text": [
            "a小於0\n"
          ]
        }
      ]
    },
    {
      "cell_type": "markdown",
      "source": [
        "###BMI計算器\n",
        "* BMI公式:體重(公斤)/身高(公尺)平方\n",
        "* BMI正常值:18.5~24\n",
        "* BMI過重值:24~27\n"
      ],
      "metadata": {
        "id": "XanGwW7DYY2k"
      }
    },
    {
      "cell_type": "code",
      "source": [
        "h = float(input('請輸入您的身高(公尺):'))\n",
        "w = float(input('請輸入您的體重:'))\n",
        "bmi = w/(h**2)\n",
        "\n",
        "# print('您的BMI值為:' + str(bmi))\n",
        "print(f'您的BMI值為:{bmi:.2f}') #f-string\n",
        "\n",
        "if bmi>=18.5 and bmi<24:\n",
        "  print('體重正常')\n",
        "elif bmi>=24 and bmi<27:\n",
        "  print('體重正常')"
      ],
      "metadata": {
        "colab": {
          "base_uri": "https://localhost:8080/"
        },
        "id": "f4ANNnilYYNQ",
        "outputId": "4521d10a-05d1-481e-d81e-68df0b3a28ca"
      },
      "execution_count": null,
      "outputs": [
        {
          "output_type": "stream",
          "name": "stdout",
          "text": [
            "請輸入您的身高(公尺):1.6\n",
            "請輸入您的體重:50\n",
            "您的BMI值為:19.53\n",
            "體重正常\n"
          ]
        }
      ]
    },
    {
      "cell_type": "markdown",
      "source": [
        "##**1-5 自定義函式def()**\n",
        "原因:因為程式碼會重複撰寫，寫成函式能提高效率  \n",
        "* 使用def關鍵字定義函式  \n",
        "&nbsp;&nbsp;def 函式名稱(參數1,參數2)\n",
        "* 輸入參數預設值  \n",
        "&nbsp;&nbsp;def 函式名稱(參數名稱=預設值)\n",
        "* 輸入多個不確定數量的參數  \n",
        "&nbsp;&nbsp;def 函式名稱(*參數)"
      ],
      "metadata": {
        "id": "wOW7ZghnhRDN"
      }
    },
    {
      "cell_type": "code",
      "source": [
        "def sayHello(name):\n",
        "  print('Hello ' + name)\n",
        "\n",
        "sayHello('Rainie')"
      ],
      "metadata": {
        "colab": {
          "base_uri": "https://localhost:8080/"
        },
        "id": "GkAghfIYhcl1",
        "outputId": "5940ec92-9363-4418-d174-62aab61044d5"
      },
      "execution_count": null,
      "outputs": [
        {
          "output_type": "stream",
          "name": "stdout",
          "text": [
            "Hello Rainie\n"
          ]
        }
      ]
    },
    {
      "cell_type": "code",
      "source": [
        "def sayHello(name,age):\n",
        "  print('Hello {}, you are {} years old!'.format(name,age)) #.format(參數1,2,3..)\n",
        "\n",
        "sayHello(name='Rainie', age='18')"
      ],
      "metadata": {
        "colab": {
          "base_uri": "https://localhost:8080/"
        },
        "id": "ii07drHLmhEH",
        "outputId": "b48bc926-f515-4374-ac29-c5c97285c284"
      },
      "execution_count": null,
      "outputs": [
        {
          "output_type": "stream",
          "name": "stdout",
          "text": [
            "Hello Rainie, you are 18 years old!\n"
          ]
        }
      ]
    },
    {
      "cell_type": "code",
      "source": [
        "# GOOD-輸入參數預設值\n",
        "def sayHello(name='Rainie',age='17'):\n",
        "  print('Hello {}, you are {} years old!'.format(name,age)) #.format(參數1,2,3..)\n",
        "\n",
        "sayHello()"
      ],
      "metadata": {
        "colab": {
          "base_uri": "https://localhost:8080/"
        },
        "id": "WS2CSwZstH8P",
        "outputId": "8a0a2dd2-bb7f-4fcf-9218-f8e1da3d5146"
      },
      "execution_count": null,
      "outputs": [
        {
          "output_type": "stream",
          "name": "stdout",
          "text": [
            "Hello Rainie, you are 17 years old!\n"
          ]
        }
      ]
    },
    {
      "cell_type": "code",
      "source": [
        "# 輸入多個不確定數量的參數_Tuple\n",
        "def foo(*tmp): #加入*號\n",
        "  print(tmp)\n",
        "foo('a','b','c')\n"
      ],
      "metadata": {
        "colab": {
          "base_uri": "https://localhost:8080/"
        },
        "id": "hhxyTtpns22K",
        "outputId": "887f44c0-af29-470a-d50c-2847f9ff04ce"
      },
      "execution_count": null,
      "outputs": [
        {
          "output_type": "stream",
          "name": "stdout",
          "text": [
            "('a', 'b', 'c')\n"
          ]
        }
      ]
    },
    {
      "cell_type": "markdown",
      "source": [
        "##**1-6 容器List和Tuple**  \n",
        "**List**\n",
        "* 中括號[ ]包覆，以，隔開\n",
        "* 使用冒號:選取索引範圍\n"
      ],
      "metadata": {
        "id": "GBVS65WruSRS"
      }
    },
    {
      "cell_type": "code",
      "source": [
        "list1 = [2,6,7,9,16]\n",
        "list1[2:4]"
      ],
      "metadata": {
        "colab": {
          "base_uri": "https://localhost:8080/"
        },
        "id": "PgYf5vnl-dTb",
        "outputId": "bd1926a8-8ea4-4fd8-85a8-2d492100f78b"
      },
      "execution_count": null,
      "outputs": [
        {
          "output_type": "execute_result",
          "data": {
            "text/plain": [
              "[7, 9]"
            ]
          },
          "metadata": {},
          "execution_count": 2
        }
      ]
    },
    {
      "cell_type": "code",
      "source": [
        "list1[:3]"
      ],
      "metadata": {
        "colab": {
          "base_uri": "https://localhost:8080/"
        },
        "id": "Vk4d3efL-3hd",
        "outputId": "3f088f49-dc60-48c9-fe7f-bfd9b778c5ed"
      },
      "execution_count": null,
      "outputs": [
        {
          "output_type": "execute_result",
          "data": {
            "text/plain": [
              "[2, 6, 7]"
            ]
          },
          "metadata": {},
          "execution_count": 3
        }
      ]
    },
    {
      "cell_type": "markdown",
      "source": [
        "加入元素  \n",
        "* 單一：append()\n",
        "* 多元素：extend()"
      ],
      "metadata": {
        "id": "cFQTKfF5EH-K"
      }
    },
    {
      "cell_type": "code",
      "source": [
        "# append()\n",
        "list1.append(20)\n",
        "list1"
      ],
      "metadata": {
        "colab": {
          "base_uri": "https://localhost:8080/"
        },
        "id": "pndAdydgD7Fb",
        "outputId": "11aad4b7-285a-4cfb-9718-9d2511da2706"
      },
      "execution_count": null,
      "outputs": [
        {
          "output_type": "execute_result",
          "data": {
            "text/plain": [
              "[2, 6, 7, 9, 16, 20]"
            ]
          },
          "metadata": {},
          "execution_count": 4
        }
      ]
    },
    {
      "cell_type": "code",
      "source": [
        "# extend() 每執行一次就增加一次\n",
        "list2 = [50,100]\n",
        "list1.extend(list2)\n",
        "list1"
      ],
      "metadata": {
        "colab": {
          "base_uri": "https://localhost:8080/"
        },
        "id": "bjmuO7ReHB-S",
        "outputId": "293f64dc-856d-40f9-f7da-50c5d4954f49"
      },
      "execution_count": null,
      "outputs": [
        {
          "output_type": "execute_result",
          "data": {
            "text/plain": [
              "[2, 6, 7, 9, 16, 20, 50, 100, 50, 100, 50, 100, 50, 100, 50, 100, 50, 100]"
            ]
          },
          "metadata": {},
          "execution_count": 13
        }
      ]
    },
    {
      "cell_type": "markdown",
      "source": [
        "移除元素  \n",
        "* 索引值：pop()\n",
        "* 特定值：remove()"
      ],
      "metadata": {
        "id": "BZ660UVhGZmw"
      }
    },
    {
      "cell_type": "code",
      "source": [
        "list1.pop(0)\n",
        "list1"
      ],
      "metadata": {
        "colab": {
          "base_uri": "https://localhost:8080/"
        },
        "id": "GGe_FrffFjZe",
        "outputId": "e28c90e7-0c4c-49fe-a675-f8746861c029"
      },
      "execution_count": null,
      "outputs": [
        {
          "output_type": "execute_result",
          "data": {
            "text/plain": [
              "[6, 7, 9, 16, 20, 50, 100, 50, 100, 50, 100, 50, 100, 50, 100, 50, 100]"
            ]
          },
          "metadata": {},
          "execution_count": 14
        }
      ]
    },
    {
      "cell_type": "code",
      "source": [
        "list1.remove(50)\n",
        "list1"
      ],
      "metadata": {
        "colab": {
          "base_uri": "https://localhost:8080/"
        },
        "id": "2ku25kj2GlZm",
        "outputId": "f100b3a4-dc58-4c75-97d8-2144489025ec"
      },
      "execution_count": null,
      "outputs": [
        {
          "output_type": "execute_result",
          "data": {
            "text/plain": [
              "[6, 7, 9, 16, 20, 100, 100, 100, 100, 100, 100]"
            ]
          },
          "metadata": {},
          "execution_count": 20
        }
      ]
    },
    {
      "cell_type": "code",
      "source": [
        "list1.remove(100)\n",
        "list1"
      ],
      "metadata": {
        "colab": {
          "base_uri": "https://localhost:8080/"
        },
        "id": "BB2pAOKEH6qy",
        "outputId": "e8dbff40-9ff7-4e4c-e9bc-39084440f41a"
      },
      "execution_count": null,
      "outputs": [
        {
          "output_type": "execute_result",
          "data": {
            "text/plain": [
              "[6, 7, 9, 16, 20, 100, 100]"
            ]
          },
          "metadata": {},
          "execution_count": 24
        }
      ]
    },
    {
      "cell_type": "markdown",
      "source": [
        "排序sort()、反轉reverse()\n",
        "* sort(reverse=True)降冪；False升冪"
      ],
      "metadata": {
        "id": "u8qmaXKvIsYK"
      }
    },
    {
      "cell_type": "code",
      "source": [
        "list3 = [5,1,2,4,3]\n",
        "list3.sort(reverse=True)\n",
        "list3"
      ],
      "metadata": {
        "colab": {
          "base_uri": "https://localhost:8080/"
        },
        "id": "6kIliFKHIDs9",
        "outputId": "d548200e-7bdc-4107-a5a4-574ec52d20ab"
      },
      "execution_count": null,
      "outputs": [
        {
          "output_type": "execute_result",
          "data": {
            "text/plain": [
              "[5, 4, 3, 2, 1]"
            ]
          },
          "metadata": {},
          "execution_count": 25
        }
      ]
    },
    {
      "cell_type": "code",
      "source": [
        "list3 = [5,1,2,4,3]\n",
        "print(list3)\n",
        "list3.reverse()\n",
        "print(list3)"
      ],
      "metadata": {
        "colab": {
          "base_uri": "https://localhost:8080/"
        },
        "id": "P53m7MWfJIrb",
        "outputId": "53a4abe1-5346-418b-847e-741feb1e64c5"
      },
      "execution_count": null,
      "outputs": [
        {
          "output_type": "stream",
          "name": "stdout",
          "text": [
            "[5, 1, 2, 4, 3]\n",
            "[3, 4, 2, 1, 5]\n"
          ]
        }
      ]
    },
    {
      "cell_type": "markdown",
      "source": [
        "**Tuple**\n",
        "* 使用小括號()包覆資料\n",
        "* Tuple的內容不可變動\n",
        "* 可使用type()轉型為List"
      ],
      "metadata": {
        "id": "d_6WDVNfKtpf"
      }
    },
    {
      "cell_type": "code",
      "source": [
        "t = (2,1,6,9,15)\n",
        "list4 = list(t)\n",
        "print(type(list4)) #轉型"
      ],
      "metadata": {
        "colab": {
          "base_uri": "https://localhost:8080/"
        },
        "id": "JYX1Bb6nJ-9Z",
        "outputId": "14f0673e-0efd-4243-d995-90085bbc037f"
      },
      "execution_count": null,
      "outputs": [
        {
          "output_type": "stream",
          "name": "stdout",
          "text": [
            "<class 'list'>\n"
          ]
        }
      ]
    },
    {
      "cell_type": "markdown",
      "source": [
        "**List和Tuple共用的函式與關鍵字**\n",
        "* in\n",
        "* len()\n",
        "* count()"
      ],
      "metadata": {
        "id": "hqD_F1G6LzyH"
      }
    },
    {
      "cell_type": "code",
      "source": [
        "# in:尋找某值是否存於list或tuple\n",
        "print(2 in t)"
      ],
      "metadata": {
        "colab": {
          "base_uri": "https://localhost:8080/"
        },
        "id": "jf4U2queLZrC",
        "outputId": "5121f5ad-89d9-497c-d3a8-bcc4f84b3985"
      },
      "execution_count": null,
      "outputs": [
        {
          "output_type": "stream",
          "name": "stdout",
          "text": [
            "True\n"
          ]
        }
      ]
    },
    {
      "cell_type": "code",
      "source": [
        "# len()確認L或T含有多少元素\n",
        "print(len(t))"
      ],
      "metadata": {
        "colab": {
          "base_uri": "https://localhost:8080/"
        },
        "id": "DosTxbrtMkCM",
        "outputId": "5fdbb206-5f53-4eab-9305-bdf69228cde3"
      },
      "execution_count": null,
      "outputs": [
        {
          "output_type": "stream",
          "name": "stdout",
          "text": [
            "5\n"
          ]
        }
      ]
    },
    {
      "cell_type": "code",
      "source": [
        "# count()尋找某一元素的數量\n",
        "t2 = (2,1,6,9,15,15,15)\n",
        "print(t2.count(15))"
      ],
      "metadata": {
        "colab": {
          "base_uri": "https://localhost:8080/"
        },
        "id": "4RV6l4pUNSIM",
        "outputId": "5cd5f220-04b9-4fbf-99f8-12b71eb747d5"
      },
      "execution_count": null,
      "outputs": [
        {
          "output_type": "stream",
          "name": "stdout",
          "text": [
            "3\n"
          ]
        }
      ]
    },
    {
      "cell_type": "markdown",
      "source": [
        "##**1-7 字典dictionary**\n",
        "* 用途:查找對應值。以大括號{}建立字庫，{key1:value1, key2:value2}\n",
        "* key為唯一值，若有重複會被覆蓋\n",
        "* 取得相對應value:用['key']\n",
        "* 用get()取值，避免KeyError的錯誤\n"
      ],
      "metadata": {
        "id": "vUs_Pp06N6CS"
      }
    },
    {
      "cell_type": "code",
      "source": [
        "dict1 = {'a':5,'b':20,'c':68,'c':100} #重複key時\n",
        "dict1['c']"
      ],
      "metadata": {
        "colab": {
          "base_uri": "https://localhost:8080/"
        },
        "id": "5qfa25pKNxtp",
        "outputId": "14eea214-432b-4b68-d558-f2b1663b4ae8"
      },
      "execution_count": null,
      "outputs": [
        {
          "output_type": "execute_result",
          "data": {
            "text/plain": [
              "100"
            ]
          },
          "metadata": {},
          "execution_count": 34
        }
      ]
    },
    {
      "cell_type": "code",
      "source": [
        "dict1.get('d','No data')"
      ],
      "metadata": {
        "colab": {
          "base_uri": "https://localhost:8080/",
          "height": 35
        },
        "id": "7MYDZyWnQfS_",
        "outputId": "31fed9fc-c3f4-47d0-d261-db713967d979"
      },
      "execution_count": null,
      "outputs": [
        {
          "output_type": "execute_result",
          "data": {
            "text/plain": [
              "'No data'"
            ],
            "application/vnd.google.colaboratory.intrinsic+json": {
              "type": "string"
            }
          },
          "metadata": {},
          "execution_count": 36
        }
      ]
    },
    {
      "cell_type": "markdown",
      "source": [
        "使用tuple為key值\n",
        "* 可運用於經緯度搜尋國家或城市\n",
        "\n",
        "![tuple為key.png](https://github.com/Rainie-1228/image/blob/main/%E4%BD%BF%E7%94%A8Tuple%E7%82%BAKey%E5%80%BC.png?raw=Ture)"
      ],
      "metadata": {
        "id": "TJhQgjpVSO0x"
      }
    },
    {
      "cell_type": "code",
      "source": [
        "dict2 = {(2,3):'A',(5,-3):'B',(-1,5):'C'}\n",
        "dict2[(-1,5)]"
      ],
      "metadata": {
        "colab": {
          "base_uri": "https://localhost:8080/",
          "height": 35
        },
        "id": "Ga_hy6oGQ9Ib",
        "outputId": "09738a92-f066-436c-8287-619ff4390f7e"
      },
      "execution_count": null,
      "outputs": [
        {
          "output_type": "execute_result",
          "data": {
            "text/plain": [
              "'C'"
            ],
            "application/vnd.google.colaboratory.intrinsic+json": {
              "type": "string"
            }
          },
          "metadata": {},
          "execution_count": 37
        }
      ]
    },
    {
      "cell_type": "markdown",
      "source": [
        "* keys()\n",
        "* values()\n",
        "* items()"
      ],
      "metadata": {
        "id": "9Ng0qaABUAzl"
      }
    },
    {
      "cell_type": "code",
      "source": [
        "dict2.keys()"
      ],
      "metadata": {
        "colab": {
          "base_uri": "https://localhost:8080/"
        },
        "id": "dcuwNkIOTlvN",
        "outputId": "6da03b4f-3918-434f-8168-460e5736c6a6"
      },
      "execution_count": null,
      "outputs": [
        {
          "output_type": "execute_result",
          "data": {
            "text/plain": [
              "dict_keys([(2, 3), (5, -3), (-1, 5)])"
            ]
          },
          "metadata": {},
          "execution_count": 40
        }
      ]
    },
    {
      "cell_type": "code",
      "source": [
        "dict2.values()"
      ],
      "metadata": {
        "colab": {
          "base_uri": "https://localhost:8080/"
        },
        "id": "fV-ika7uUQtj",
        "outputId": "ab74718c-c824-4d51-9f60-a19cd50e9c12"
      },
      "execution_count": null,
      "outputs": [
        {
          "output_type": "execute_result",
          "data": {
            "text/plain": [
              "dict_values(['A', 'B', 'C'])"
            ]
          },
          "metadata": {},
          "execution_count": 41
        }
      ]
    },
    {
      "cell_type": "code",
      "source": [
        "dict2.items()"
      ],
      "metadata": {
        "colab": {
          "base_uri": "https://localhost:8080/"
        },
        "id": "kMPmcoSaUWXd",
        "outputId": "4b56b117-98f2-4f35-9dc1-99020a89b4f1"
      },
      "execution_count": null,
      "outputs": [
        {
          "output_type": "execute_result",
          "data": {
            "text/plain": [
              "dict_items([((2, 3), 'A'), ((5, -3), 'B'), ((-1, 5), 'C')])"
            ]
          },
          "metadata": {},
          "execution_count": 42
        }
      ]
    },
    {
      "cell_type": "markdown",
      "source": [
        "* 新增和更新元素\n",
        "* 刪除資料:del與.clear"
      ],
      "metadata": {
        "id": "6aZAdrMjVEGa"
      }
    },
    {
      "cell_type": "code",
      "source": [
        "dict1 = {'a':5,'b':20,'c':100}\n",
        "dict1['d'] = 660 #無key就新增\n",
        "dict1"
      ],
      "metadata": {
        "colab": {
          "base_uri": "https://localhost:8080/"
        },
        "id": "ctO5fO1dUXhb",
        "outputId": "c2fd65ae-5ed6-4087-d4a2-698046ba7be4"
      },
      "execution_count": null,
      "outputs": [
        {
          "output_type": "execute_result",
          "data": {
            "text/plain": [
              "{'a': 5, 'b': 20, 'c': 100, 'd': 660}"
            ]
          },
          "metadata": {},
          "execution_count": 43
        }
      ]
    },
    {
      "cell_type": "code",
      "source": [
        "dict1['d'] = 880 #更新\n",
        "dict1"
      ],
      "metadata": {
        "colab": {
          "base_uri": "https://localhost:8080/"
        },
        "id": "VXtojCPYVzMU",
        "outputId": "d810e1e9-61f3-4948-80ea-912fff6941ec"
      },
      "execution_count": null,
      "outputs": [
        {
          "output_type": "execute_result",
          "data": {
            "text/plain": [
              "{'a': 5, 'b': 20, 'c': 100, 'd': 880}"
            ]
          },
          "metadata": {},
          "execution_count": 45
        }
      ]
    },
    {
      "cell_type": "code",
      "source": [
        "del dict1['a'] #del刪除某筆資料\n",
        "dict1"
      ],
      "metadata": {
        "colab": {
          "base_uri": "https://localhost:8080/"
        },
        "id": "SVprf1wkV5NV",
        "outputId": "12aa63ff-d821-4aeb-eec7-53e483776497"
      },
      "execution_count": null,
      "outputs": [
        {
          "output_type": "execute_result",
          "data": {
            "text/plain": [
              "{'b': 20, 'c': 100, 'd': 880}"
            ]
          },
          "metadata": {},
          "execution_count": 46
        }
      ]
    },
    {
      "cell_type": "code",
      "source": [
        "dict1.clear() #.clear()淨空字庫\n",
        "dict1"
      ],
      "metadata": {
        "colab": {
          "base_uri": "https://localhost:8080/"
        },
        "id": "E0tKit0aWU8T",
        "outputId": "6c98b5ba-009a-40fb-c866-06fdabc309c6"
      },
      "execution_count": null,
      "outputs": [
        {
          "output_type": "execute_result",
          "data": {
            "text/plain": [
              "{}"
            ]
          },
          "metadata": {},
          "execution_count": 47
        }
      ]
    },
    {
      "cell_type": "markdown",
      "source": [
        "##**1-8 集合Set**\n",
        "![集合](https://github.com/Rainie-1228/image/blob/main/%E9%9B%86%E5%90%88Set.png?raw=Ture)"
      ],
      "metadata": {
        "id": "S3mkN8ryXSPb"
      }
    },
    {
      "cell_type": "code",
      "source": [
        "V = {'a','e','u','i','o'}\n",
        "F = {'d','n','g','i','o'}\n",
        "V | F"
      ],
      "metadata": {
        "colab": {
          "base_uri": "https://localhost:8080/"
        },
        "id": "NF-W709zWaiL",
        "outputId": "dde55d33-e4aa-4cbe-da06-9278ac252289"
      },
      "execution_count": null,
      "outputs": [
        {
          "output_type": "execute_result",
          "data": {
            "text/plain": [
              "{'a', 'd', 'e', 'g', 'i', 'n', 'o', 'u'}"
            ]
          },
          "metadata": {},
          "execution_count": 48
        }
      ]
    },
    {
      "cell_type": "code",
      "source": [
        "V & F"
      ],
      "metadata": {
        "colab": {
          "base_uri": "https://localhost:8080/"
        },
        "id": "Rb2XPWRgZNcM",
        "outputId": "c274a76a-c34d-4809-9c8e-36b887b6a66b"
      },
      "execution_count": null,
      "outputs": [
        {
          "output_type": "execute_result",
          "data": {
            "text/plain": [
              "{'i', 'o'}"
            ]
          },
          "metadata": {},
          "execution_count": 49
        }
      ]
    },
    {
      "cell_type": "code",
      "source": [
        "V - F"
      ],
      "metadata": {
        "colab": {
          "base_uri": "https://localhost:8080/"
        },
        "id": "qd2E719vZT9E",
        "outputId": "f6e2dc2a-04f7-47ca-c631-6727fc30ebfe"
      },
      "execution_count": null,
      "outputs": [
        {
          "output_type": "execute_result",
          "data": {
            "text/plain": [
              "{'a', 'e', 'u'}"
            ]
          },
          "metadata": {},
          "execution_count": 50
        }
      ]
    },
    {
      "cell_type": "code",
      "source": [
        "V ^ F"
      ],
      "metadata": {
        "colab": {
          "base_uri": "https://localhost:8080/"
        },
        "id": "2_hbYEJSZYPa",
        "outputId": "82850d47-fbe8-4a35-dfc9-20430c81225d"
      },
      "execution_count": null,
      "outputs": [
        {
          "output_type": "execute_result",
          "data": {
            "text/plain": [
              "{'a', 'd', 'e', 'g', 'n', 'u'}"
            ]
          },
          "metadata": {},
          "execution_count": 51
        }
      ]
    },
    {
      "cell_type": "markdown",
      "source": [
        "* 新增(單一add、多集合update)\n",
        "* 刪除(remove、discard)\n",
        "* 判斷元素是否在集合中(in)"
      ],
      "metadata": {
        "id": "uObErnhBb_f9"
      }
    },
    {
      "cell_type": "code",
      "source": [
        "a = {1,2,3,4}\n",
        "a.update({5,6,7}) #增加某集合\n",
        "a"
      ],
      "metadata": {
        "colab": {
          "base_uri": "https://localhost:8080/"
        },
        "id": "Q3JKYtEgZeXJ",
        "outputId": "6ca50b20-aed2-4350-a1a3-ba5affac7670"
      },
      "execution_count": null,
      "outputs": [
        {
          "output_type": "execute_result",
          "data": {
            "text/plain": [
              "{1, 2, 3, 4, 5, 6, 7}"
            ]
          },
          "metadata": {},
          "execution_count": 52
        }
      ]
    },
    {
      "cell_type": "code",
      "source": [
        "a.discard(1) #若使用remove刪除不存在的資料會報錯，discard不會\n",
        "a"
      ],
      "metadata": {
        "colab": {
          "base_uri": "https://localhost:8080/"
        },
        "id": "OdjofmbPcn7m",
        "outputId": "bab97a24-5533-4dbd-f85a-621691ad141a"
      },
      "execution_count": null,
      "outputs": [
        {
          "output_type": "execute_result",
          "data": {
            "text/plain": [
              "{2, 3, 4, 5, 6, 7}"
            ]
          },
          "metadata": {},
          "execution_count": 55
        }
      ]
    },
    {
      "cell_type": "code",
      "source": [
        "1 in a"
      ],
      "metadata": {
        "colab": {
          "base_uri": "https://localhost:8080/"
        },
        "id": "_2W3WkmLc0CH",
        "outputId": "4fe60e7b-80e2-42f2-de42-8edceac21c39"
      },
      "execution_count": null,
      "outputs": [
        {
          "output_type": "execute_result",
          "data": {
            "text/plain": [
              "False"
            ]
          },
          "metadata": {},
          "execution_count": 56
        }
      ]
    },
    {
      "cell_type": "markdown",
      "source": [
        "##**1-9 for與while迴圈**\n",
        "**for迴圈取得容器型態元素的用法**  \n",
        "    <br>&nbsp;&nbsp;for 區域變數 in 容器型態：  \n",
        "    &nbsp;&nbsp;將容器元素**依序**放入變數後取出\n"
      ],
      "metadata": {
        "id": "s-xbsH7hdsxB"
      }
    },
    {
      "cell_type": "code",
      "source": [
        "names = {'哈利','榮恩','妙麗'}\n",
        "for s in names: #區域變數s僅於for迴圈方有意義\n",
        "  print(s)"
      ],
      "metadata": {
        "colab": {
          "base_uri": "https://localhost:8080/"
        },
        "id": "Bf7mMTA7dZuK",
        "outputId": "03e9dbc7-62cb-4bcd-f087-a933d8cc77c4"
      },
      "execution_count": null,
      "outputs": [
        {
          "output_type": "stream",
          "name": "stdout",
          "text": [
            "哈利\n",
            "妙麗\n",
            "榮恩\n"
          ]
        }
      ]
    },
    {
      "cell_type": "code",
      "source": [
        "dict = {'a':1,'b':2,'c':3}\n",
        "for key in dict.keys():\n",
        "  print(key)"
      ],
      "metadata": {
        "colab": {
          "base_uri": "https://localhost:8080/"
        },
        "id": "mYprbdX8hHNA",
        "outputId": "b39ca337-2612-4f40-9527-8cb172a0d625"
      },
      "execution_count": null,
      "outputs": [
        {
          "output_type": "stream",
          "name": "stdout",
          "text": [
            "a\n",
            "b\n",
            "c\n"
          ]
        }
      ]
    },
    {
      "cell_type": "code",
      "source": [
        "# 利用if下判斷，回傳該key's value\n",
        "dict = {'a':1,'b':2,'c':3}\n",
        "if 'b' in dict:\n",
        "  print(dict['b'])"
      ],
      "metadata": {
        "colab": {
          "base_uri": "https://localhost:8080/"
        },
        "id": "mHyjT14CiWN9",
        "outputId": "4728dce2-d244-402f-cdcb-3e66dbf39525"
      },
      "execution_count": null,
      "outputs": [
        {
          "output_type": "stream",
          "name": "stdout",
          "text": [
            "2\n"
          ]
        }
      ]
    },
    {
      "cell_type": "markdown",
      "source": [
        "###**range(起始值,結束值,步進值)**\n",
        "* 起始值預設為0\n",
        "* 結束值為往前-1"
      ],
      "metadata": {
        "id": "eDdgd8nMmSGk"
      }
    },
    {
      "cell_type": "code",
      "source": [
        "for i in range(1,10,2):\n",
        "  print(i)"
      ],
      "metadata": {
        "colab": {
          "base_uri": "https://localhost:8080/"
        },
        "id": "qJnvHFm5j4Ft",
        "outputId": "f105ccaf-c860-4446-d0d3-faefa10d71dc"
      },
      "execution_count": null,
      "outputs": [
        {
          "output_type": "stream",
          "name": "stdout",
          "text": [
            "1\n",
            "3\n",
            "5\n",
            "7\n",
            "9\n"
          ]
        }
      ]
    },
    {
      "cell_type": "markdown",
      "source": [
        "###continue,break\n",
        "* continue:暫停,後續元素仍執行\n",
        "* break:跳出迴圈"
      ],
      "metadata": {
        "id": "ABSRl277oJ0D"
      }
    },
    {
      "cell_type": "code",
      "source": [
        "for i in range(1,10,2):\n",
        "  if i == 3:\n",
        "    continue\n",
        "  print(i)"
      ],
      "metadata": {
        "colab": {
          "base_uri": "https://localhost:8080/"
        },
        "id": "dL5F0quLnbM4",
        "outputId": "15e45c27-3735-47d0-84e4-7a2929339eda"
      },
      "execution_count": null,
      "outputs": [
        {
          "output_type": "stream",
          "name": "stdout",
          "text": [
            "1\n",
            "5\n",
            "7\n",
            "9\n"
          ]
        }
      ]
    },
    {
      "cell_type": "code",
      "source": [
        "for i in range(1,10,2):\n",
        "  if i == 3:\n",
        "    break\n",
        "  print(i)"
      ],
      "metadata": {
        "colab": {
          "base_uri": "https://localhost:8080/"
        },
        "id": "G8ALEvqNo0SB",
        "outputId": "3967182a-2fb7-4c6a-d315-7dc7dcb8ef85"
      },
      "execution_count": null,
      "outputs": [
        {
          "output_type": "stream",
          "name": "stdout",
          "text": [
            "1\n"
          ]
        }
      ]
    },
    {
      "cell_type": "markdown",
      "source": [
        "###**while**\n",
        "* while條件式:  若為True,則執行程式碼\n"
      ],
      "metadata": {
        "id": "8BryHshSp2jC"
      }
    },
    {
      "cell_type": "markdown",
      "source": [
        "###猜數字遊戲\n",
        "* 取隨機亂數1~10\n",
        "* 使用者可輸入數字，系統會提示"
      ],
      "metadata": {
        "id": "WqIOiAjqrcqi"
      }
    },
    {
      "cell_type": "code",
      "source": [
        "import random\n",
        "n = random.randint(1,10)\n",
        "guess = int(input('請輸入1到10之間的數字'))\n",
        "\n",
        "while n != guess:\n",
        "  if guess>n:\n",
        "    print('數字太大')\n",
        "    guess = int(input('請輸入1到10之間的數字'))\n",
        "  elif guess<n:\n",
        "    print('數字太小')\n",
        "    guess = int(input('請輸入1到10之間的數字'))\n",
        "print('你猜對了')\n"
      ],
      "metadata": {
        "colab": {
          "base_uri": "https://localhost:8080/"
        },
        "id": "tmBVpI9Go48r",
        "outputId": "a9c8e93d-aea7-421b-b23b-004eab4515dc"
      },
      "execution_count": null,
      "outputs": [
        {
          "output_type": "stream",
          "name": "stdout",
          "text": [
            "請輸入1到10之間的數字6\n",
            "數字太大\n",
            "請輸入1到10之間的數字3\n",
            "數字太大\n",
            "請輸入1到10之間的數字1\n",
            "數字太小\n",
            "請輸入1到10之間的數字2\n",
            "你猜對了\n"
          ]
        }
      ]
    },
    {
      "cell_type": "markdown",
      "source": [
        "**作業**  \n",
        "題目1:單位轉換\n",
        "* 1英吋(in)=2.54cm\n",
        "* 使用者輸入長度和轉換單位。  \n",
        "(例如:第一個問題請輸入長度:1，第二個問題輸入單位:in，最後列印1.00000 in=2.540000cm)"
      ],
      "metadata": {
        "id": "lhuoszJrvKef"
      }
    },
    {
      "cell_type": "code",
      "source": [
        "# 實作\n",
        "lenth = float(input('請輸入長度:'))\n",
        "unit = float(input('請輸入單位比:'))\n",
        "trans = lenth * unit\n",
        "print(f'轉換單位為:{lenth:.6f}in={trans:.6f}cm')"
      ],
      "metadata": {
        "colab": {
          "base_uri": "https://localhost:8080/"
        },
        "id": "rYS5L7B1uP1U",
        "outputId": "2ebd5b21-c50a-4cd5-bd15-f2451a66161f"
      },
      "execution_count": 84,
      "outputs": [
        {
          "output_type": "stream",
          "name": "stdout",
          "text": [
            "請輸入長度:1\n",
            "請輸入單位比:2.54\n",
            "轉換單位為:1.000000in=2.540000cm\n"
          ]
        }
      ]
    },
    {
      "cell_type": "code",
      "source": [
        "# 解答\n",
        "lenth = float(input('請輸入長度:'))\n",
        "unit = input('請輸入單位cm或in:')\n",
        "\n",
        "if unit == 'in':\n",
        "  print('%f in = %f cm' % (lenth, lenth*2.54)) # %f表浮點數\n",
        "elif unit == 'cm':\n",
        "  print('%f cm = %f in' % (lenth , lenth/2.54))\n",
        "else:\n",
        "  print('請輸入in或cm')\n"
      ],
      "metadata": {
        "id": "_mGmlNz805ZK",
        "colab": {
          "base_uri": "https://localhost:8080/"
        },
        "outputId": "33cf0c56-e0e4-429a-d069-114db0089608"
      },
      "execution_count": 89,
      "outputs": [
        {
          "output_type": "stream",
          "name": "stdout",
          "text": [
            "請輸入長度:1\n",
            "請輸入單位cm或in:in\n",
            "1.000000 in = 2.540000 cm\n"
          ]
        }
      ]
    },
    {
      "cell_type": "markdown",
      "source": [
        "題目2:九九乘法表\n",
        "* for迴圈"
      ],
      "metadata": {
        "id": "bDeal4wRyevI"
      }
    },
    {
      "cell_type": "code",
      "source": [
        "# 實作X\n",
        "# table = {1,2,3,4,5,6,7,8,9}\n",
        "# for t in table:\n",
        "#   print(t*t)"
      ],
      "metadata": {
        "colab": {
          "base_uri": "https://localhost:8080/"
        },
        "id": "lV2thvVrxXRn",
        "outputId": "60c264c4-139f-45e2-e33f-fdf8870491c7"
      },
      "execution_count": null,
      "outputs": [
        {
          "output_type": "stream",
          "name": "stdout",
          "text": [
            "1\n",
            "4\n",
            "9\n",
            "16\n",
            "25\n",
            "36\n",
            "49\n",
            "64\n",
            "81\n"
          ]
        }
      ]
    },
    {
      "cell_type": "code",
      "source": [
        "# 解答\n",
        "for i in range(1,10):\n",
        "  for j in range(1,10):\n",
        "    print('%d*%d=%d' % (i, j, i*j)) # %d =10進位的數字"
      ],
      "metadata": {
        "id": "O5OV29BkzIvj"
      },
      "execution_count": null,
      "outputs": []
    },
    {
      "cell_type": "markdown",
      "source": [
        "**進階題:費氏數列(Fibonacci)**  \n",
        "* 第0項是0，第1項是1\n",
        "* 第n項是前兩項(n-1)(n-2)的總和\n",
        "* 0,1,1,2,3,5,8,13  \n",
        "\n",
        "<br>▶函式中呼叫自己同樣名稱函式_遞迴(recursion):  \n",
        "當問題分解為子問題，而問題本身的解法和子問題一致。\n",
        "\n",
        "\n",
        "p.s:耗效能，如俄羅斯娃娃般堆疊\n",
        "\n",
        "\n"
      ],
      "metadata": {
        "id": "o10dPNcZ7lR4"
      }
    },
    {
      "cell_type": "code",
      "source": [
        "def fib(n):\n",
        "  if n==0 or n==1:\n",
        "    return n\n",
        "  else:\n",
        "    return fib(n-1) + fib(n-2)\n",
        "print(fib(15)) #指定40就執行50秒，別亂玩"
      ],
      "metadata": {
        "id": "B_Sij7Kv9OoE",
        "colab": {
          "base_uri": "https://localhost:8080/"
        },
        "outputId": "e980eccc-87b3-4d6c-8116-f7bb085e7b26"
      },
      "execution_count": 96,
      "outputs": [
        {
          "output_type": "stream",
          "name": "stdout",
          "text": [
            "610\n"
          ]
        }
      ]
    },
    {
      "cell_type": "code",
      "source": [],
      "metadata": {
        "id": "E8Z85bvZ6xYg"
      },
      "execution_count": null,
      "outputs": []
    }
  ]
}